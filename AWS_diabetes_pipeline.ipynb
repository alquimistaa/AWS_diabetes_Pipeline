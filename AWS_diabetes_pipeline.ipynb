{
 "cells": [
  {
   "cell_type": "markdown",
   "id": "175a3dcf-12f2-448c-a9e9-64ebe31acaaa",
   "metadata": {},
   "source": [
    "Create an S3 client to connect to AWS S3 an then, list all buckets:"
   ]
  },
  {
   "cell_type": "code",
   "execution_count": 1,
   "id": "555407b5-7507-4f0c-b3a9-7e08a933e656",
   "metadata": {},
   "outputs": [
    {
     "name": "stdout",
     "output_type": "stream",
     "text": [
      "mydiabetdatabucket\n",
      "sagemaker-eu-north-1-850701857503\n"
     ]
    }
   ],
   "source": [
    "import boto3\n",
    "\n",
    "s3 = boto3.client('s3')\n",
    "\n",
    "for bucket in s3.list_buckets()['Buckets']:\n",
    "    print(f\"{bucket['Name']}\")\n"
   ]
  },
  {
   "cell_type": "markdown",
   "id": "64fe4485-bb05-4d3a-ac2e-8e8b47e5b626",
   "metadata": {},
   "source": [
    "We download the train.csv file from S3 and load it into pandas:"
   ]
  },
  {
   "cell_type": "code",
   "execution_count": 2,
   "id": "298b095f-8b42-48c0-a8d2-b441e8d8cd4b",
   "metadata": {},
   "outputs": [],
   "source": [
    "import pandas as pd\n",
    "\n",
    "bucket_name = 'mydiabetdatabucket'\n",
    "file_key = 'diabetes_train.csv'\n",
    "\n",
    "# Use boto3 to get the file from S3\n",
    "obj = s3.get_object(Bucket=bucket_name, Key=file_key)\n",
    "\n",
    "df = pd.read_csv(obj['Body'])\n"
   ]
  },
  {
   "cell_type": "code",
   "execution_count": 3,
   "id": "10bfa20c-94de-45a5-b108-b09322923008",
   "metadata": {},
   "outputs": [
    {
     "data": {
      "text/html": [
       "<div>\n",
       "<style scoped>\n",
       "    .dataframe tbody tr th:only-of-type {\n",
       "        vertical-align: middle;\n",
       "    }\n",
       "\n",
       "    .dataframe tbody tr th {\n",
       "        vertical-align: top;\n",
       "    }\n",
       "\n",
       "    .dataframe thead th {\n",
       "        text-align: right;\n",
       "    }\n",
       "</style>\n",
       "<table border=\"1\" class=\"dataframe\">\n",
       "  <thead>\n",
       "    <tr style=\"text-align: right;\">\n",
       "      <th></th>\n",
       "      <th>Unnamed: 0</th>\n",
       "      <th>Pregnancies</th>\n",
       "      <th>Glucose</th>\n",
       "      <th>BloodPressure</th>\n",
       "      <th>SkinThickness</th>\n",
       "      <th>Insulin</th>\n",
       "      <th>BMI</th>\n",
       "      <th>DiabetesPedigreeFunction</th>\n",
       "      <th>Age</th>\n",
       "      <th>Outcome</th>\n",
       "    </tr>\n",
       "  </thead>\n",
       "  <tbody>\n",
       "    <tr>\n",
       "      <th>0</th>\n",
       "      <td>0</td>\n",
       "      <td>6</td>\n",
       "      <td>148</td>\n",
       "      <td>72</td>\n",
       "      <td>35</td>\n",
       "      <td>0</td>\n",
       "      <td>33.6</td>\n",
       "      <td>0.627</td>\n",
       "      <td>50</td>\n",
       "      <td>1</td>\n",
       "    </tr>\n",
       "    <tr>\n",
       "      <th>1</th>\n",
       "      <td>1</td>\n",
       "      <td>1</td>\n",
       "      <td>85</td>\n",
       "      <td>66</td>\n",
       "      <td>29</td>\n",
       "      <td>0</td>\n",
       "      <td>26.6</td>\n",
       "      <td>0.351</td>\n",
       "      <td>31</td>\n",
       "      <td>0</td>\n",
       "    </tr>\n",
       "    <tr>\n",
       "      <th>2</th>\n",
       "      <td>2</td>\n",
       "      <td>8</td>\n",
       "      <td>183</td>\n",
       "      <td>64</td>\n",
       "      <td>0</td>\n",
       "      <td>0</td>\n",
       "      <td>23.3</td>\n",
       "      <td>0.672</td>\n",
       "      <td>32</td>\n",
       "      <td>1</td>\n",
       "    </tr>\n",
       "    <tr>\n",
       "      <th>3</th>\n",
       "      <td>3</td>\n",
       "      <td>1</td>\n",
       "      <td>89</td>\n",
       "      <td>66</td>\n",
       "      <td>23</td>\n",
       "      <td>94</td>\n",
       "      <td>28.1</td>\n",
       "      <td>0.167</td>\n",
       "      <td>21</td>\n",
       "      <td>0</td>\n",
       "    </tr>\n",
       "    <tr>\n",
       "      <th>4</th>\n",
       "      <td>4</td>\n",
       "      <td>0</td>\n",
       "      <td>137</td>\n",
       "      <td>40</td>\n",
       "      <td>35</td>\n",
       "      <td>168</td>\n",
       "      <td>43.1</td>\n",
       "      <td>2.288</td>\n",
       "      <td>33</td>\n",
       "      <td>1</td>\n",
       "    </tr>\n",
       "  </tbody>\n",
       "</table>\n",
       "</div>"
      ],
      "text/plain": [
       "   Unnamed: 0  Pregnancies  Glucose  BloodPressure  SkinThickness  Insulin  \\\n",
       "0           0            6      148             72             35        0   \n",
       "1           1            1       85             66             29        0   \n",
       "2           2            8      183             64              0        0   \n",
       "3           3            1       89             66             23       94   \n",
       "4           4            0      137             40             35      168   \n",
       "\n",
       "    BMI  DiabetesPedigreeFunction  Age  Outcome  \n",
       "0  33.6                     0.627   50        1  \n",
       "1  26.6                     0.351   31        0  \n",
       "2  23.3                     0.672   32        1  \n",
       "3  28.1                     0.167   21        0  \n",
       "4  43.1                     2.288   33        1  "
      ]
     },
     "execution_count": 3,
     "metadata": {},
     "output_type": "execute_result"
    }
   ],
   "source": [
    "df.head()"
   ]
  },
  {
   "cell_type": "code",
   "execution_count": 4,
   "id": "df2c5b7e-2409-4441-9830-f5aca482a0cf",
   "metadata": {},
   "outputs": [],
   "source": [
    "df.drop(\"Unnamed: 0\", axis=1, inplace=True)"
   ]
  },
  {
   "cell_type": "code",
   "execution_count": 5,
   "id": "332c2c67-7d55-4e2b-82e8-30c1f3b10f46",
   "metadata": {
    "scrolled": true
   },
   "outputs": [
    {
     "name": "stdout",
     "output_type": "stream",
     "text": [
      "<class 'pandas.core.frame.DataFrame'>\n",
      "RangeIndex: 700 entries, 0 to 699\n",
      "Data columns (total 9 columns):\n",
      " #   Column                    Non-Null Count  Dtype  \n",
      "---  ------                    --------------  -----  \n",
      " 0   Pregnancies               700 non-null    int64  \n",
      " 1   Glucose                   700 non-null    int64  \n",
      " 2   BloodPressure             700 non-null    int64  \n",
      " 3   SkinThickness             700 non-null    int64  \n",
      " 4   Insulin                   700 non-null    int64  \n",
      " 5   BMI                       700 non-null    float64\n",
      " 6   DiabetesPedigreeFunction  700 non-null    float64\n",
      " 7   Age                       700 non-null    int64  \n",
      " 8   Outcome                   700 non-null    int64  \n",
      "dtypes: float64(2), int64(7)\n",
      "memory usage: 49.3 KB\n"
     ]
    }
   ],
   "source": [
    "df.info()"
   ]
  },
  {
   "cell_type": "markdown",
   "id": "678032f4-8223-496f-891d-b2fbf9599ca9",
   "metadata": {},
   "source": [
    "There is no null values. (We will check it again later.)"
   ]
  },
  {
   "cell_type": "code",
   "execution_count": 6,
   "id": "1830b390-aae1-4f98-9247-d74a0b3fac7b",
   "metadata": {},
   "outputs": [
    {
     "data": {
      "text/html": [
       "<div>\n",
       "<style scoped>\n",
       "    .dataframe tbody tr th:only-of-type {\n",
       "        vertical-align: middle;\n",
       "    }\n",
       "\n",
       "    .dataframe tbody tr th {\n",
       "        vertical-align: top;\n",
       "    }\n",
       "\n",
       "    .dataframe thead th {\n",
       "        text-align: right;\n",
       "    }\n",
       "</style>\n",
       "<table border=\"1\" class=\"dataframe\">\n",
       "  <thead>\n",
       "    <tr style=\"text-align: right;\">\n",
       "      <th></th>\n",
       "      <th>Pregnancies</th>\n",
       "      <th>Glucose</th>\n",
       "      <th>BloodPressure</th>\n",
       "      <th>SkinThickness</th>\n",
       "      <th>Insulin</th>\n",
       "      <th>BMI</th>\n",
       "      <th>DiabetesPedigreeFunction</th>\n",
       "      <th>Age</th>\n",
       "      <th>Outcome</th>\n",
       "    </tr>\n",
       "  </thead>\n",
       "  <tbody>\n",
       "    <tr>\n",
       "      <th>count</th>\n",
       "      <td>700.000000</td>\n",
       "      <td>700.000000</td>\n",
       "      <td>700.000000</td>\n",
       "      <td>700.000000</td>\n",
       "      <td>700.000000</td>\n",
       "      <td>700.000000</td>\n",
       "      <td>700.000000</td>\n",
       "      <td>700.000000</td>\n",
       "      <td>700.000000</td>\n",
       "    </tr>\n",
       "    <tr>\n",
       "      <th>mean</th>\n",
       "      <td>3.827143</td>\n",
       "      <td>120.541429</td>\n",
       "      <td>68.880000</td>\n",
       "      <td>20.382857</td>\n",
       "      <td>79.880000</td>\n",
       "      <td>31.891286</td>\n",
       "      <td>0.476019</td>\n",
       "      <td>33.124286</td>\n",
       "      <td>0.344286</td>\n",
       "    </tr>\n",
       "    <tr>\n",
       "      <th>std</th>\n",
       "      <td>3.364394</td>\n",
       "      <td>32.208854</td>\n",
       "      <td>19.540718</td>\n",
       "      <td>16.032219</td>\n",
       "      <td>115.590119</td>\n",
       "      <td>7.949977</td>\n",
       "      <td>0.337357</td>\n",
       "      <td>11.784558</td>\n",
       "      <td>0.475475</td>\n",
       "    </tr>\n",
       "    <tr>\n",
       "      <th>min</th>\n",
       "      <td>0.000000</td>\n",
       "      <td>0.000000</td>\n",
       "      <td>0.000000</td>\n",
       "      <td>0.000000</td>\n",
       "      <td>0.000000</td>\n",
       "      <td>0.000000</td>\n",
       "      <td>0.078000</td>\n",
       "      <td>21.000000</td>\n",
       "      <td>0.000000</td>\n",
       "    </tr>\n",
       "    <tr>\n",
       "      <th>25%</th>\n",
       "      <td>1.000000</td>\n",
       "      <td>99.000000</td>\n",
       "      <td>63.500000</td>\n",
       "      <td>0.000000</td>\n",
       "      <td>0.000000</td>\n",
       "      <td>27.000000</td>\n",
       "      <td>0.240000</td>\n",
       "      <td>24.000000</td>\n",
       "      <td>0.000000</td>\n",
       "    </tr>\n",
       "    <tr>\n",
       "      <th>50%</th>\n",
       "      <td>3.000000</td>\n",
       "      <td>116.500000</td>\n",
       "      <td>72.000000</td>\n",
       "      <td>23.000000</td>\n",
       "      <td>36.500000</td>\n",
       "      <td>32.000000</td>\n",
       "      <td>0.375500</td>\n",
       "      <td>29.000000</td>\n",
       "      <td>0.000000</td>\n",
       "    </tr>\n",
       "    <tr>\n",
       "      <th>75%</th>\n",
       "      <td>6.000000</td>\n",
       "      <td>140.250000</td>\n",
       "      <td>80.000000</td>\n",
       "      <td>32.000000</td>\n",
       "      <td>126.500000</td>\n",
       "      <td>36.500000</td>\n",
       "      <td>0.637000</td>\n",
       "      <td>40.000000</td>\n",
       "      <td>1.000000</td>\n",
       "    </tr>\n",
       "    <tr>\n",
       "      <th>max</th>\n",
       "      <td>17.000000</td>\n",
       "      <td>199.000000</td>\n",
       "      <td>122.000000</td>\n",
       "      <td>99.000000</td>\n",
       "      <td>846.000000</td>\n",
       "      <td>67.100000</td>\n",
       "      <td>2.420000</td>\n",
       "      <td>81.000000</td>\n",
       "      <td>1.000000</td>\n",
       "    </tr>\n",
       "  </tbody>\n",
       "</table>\n",
       "</div>"
      ],
      "text/plain": [
       "       Pregnancies     Glucose  BloodPressure  SkinThickness     Insulin  \\\n",
       "count   700.000000  700.000000     700.000000     700.000000  700.000000   \n",
       "mean      3.827143  120.541429      68.880000      20.382857   79.880000   \n",
       "std       3.364394   32.208854      19.540718      16.032219  115.590119   \n",
       "min       0.000000    0.000000       0.000000       0.000000    0.000000   \n",
       "25%       1.000000   99.000000      63.500000       0.000000    0.000000   \n",
       "50%       3.000000  116.500000      72.000000      23.000000   36.500000   \n",
       "75%       6.000000  140.250000      80.000000      32.000000  126.500000   \n",
       "max      17.000000  199.000000     122.000000      99.000000  846.000000   \n",
       "\n",
       "              BMI  DiabetesPedigreeFunction         Age     Outcome  \n",
       "count  700.000000                700.000000  700.000000  700.000000  \n",
       "mean    31.891286                  0.476019   33.124286    0.344286  \n",
       "std      7.949977                  0.337357   11.784558    0.475475  \n",
       "min      0.000000                  0.078000   21.000000    0.000000  \n",
       "25%     27.000000                  0.240000   24.000000    0.000000  \n",
       "50%     32.000000                  0.375500   29.000000    0.000000  \n",
       "75%     36.500000                  0.637000   40.000000    1.000000  \n",
       "max     67.100000                  2.420000   81.000000    1.000000  "
      ]
     },
     "execution_count": 6,
     "metadata": {},
     "output_type": "execute_result"
    }
   ],
   "source": [
    "df.describe()"
   ]
  },
  {
   "cell_type": "code",
   "execution_count": 7,
   "id": "c8fbcbc4-d42a-4fb4-bf8a-1a72e7b802e4",
   "metadata": {},
   "outputs": [
    {
     "data": {
      "text/plain": [
       "0    459\n",
       "1    241\n",
       "Name: Outcome, dtype: int64"
      ]
     },
     "execution_count": 7,
     "metadata": {},
     "output_type": "execute_result"
    }
   ],
   "source": [
    "df[\"Outcome\"].value_counts()"
   ]
  },
  {
   "cell_type": "code",
   "execution_count": 8,
   "id": "facb70ee-92cc-468a-be3e-ed2351b3232d",
   "metadata": {},
   "outputs": [
    {
     "data": {
      "image/png": "[encoded data removed]",
      "text/plain": [
       "<Figure size 1000x800 with 2 Axes>"
      ]
     },
     "metadata": {},
     "output_type": "display_data"
    }
   ],
   "source": [
    "import seaborn as sns\n",
    "import matplotlib.pyplot as plt\n",
    "\n",
    "# Matrix\n",
    "corr = df.corr(numeric_only=True)\n",
    "\n",
    "# Heatmap \n",
    "plt.figure(figsize=(10, 8))\n",
    "sns.heatmap(corr, annot=True, cmap='coolwarm', fmt='.2f')\n",
    "plt.title('Correlation Matrix')\n",
    "plt.show()\n"
   ]
  },
  {
   "cell_type": "markdown",
   "id": "7a3a933c-faf0-4a10-a7a1-44450fd159a8",
   "metadata": {},
   "source": [
    "There is no correlation between features."
   ]
  },
  {
   "cell_type": "markdown",
   "id": "511df219-a07d-4fda-a65e-f1e2d8e5f939",
   "metadata": {},
   "source": [
    "Let's check 0 values on some features. Because if they're zero it means they're actually null."
   ]
  },
  {
   "cell_type": "code",
   "execution_count": 9,
   "id": "20b3c65f-9328-487c-8cd2-27571730d542",
   "metadata": {},
   "outputs": [
    {
     "name": "stdout",
     "output_type": "stream",
     "text": [
      "Glucose : 5\n",
      "BloodPressure : 33\n",
      "SkinThickness : 209\n",
      "Insulin : 338\n",
      "BMI : 10\n"
     ]
    }
   ],
   "source": [
    "zero_cols = ['Glucose', 'BloodPressure', 'SkinThickness', 'Insulin', 'BMI']\n",
    "for col in zero_cols:\n",
    "    zero_count = (df[col] == 0).sum()\n",
    "    print(f\"{col} : {zero_count}\")\n"
   ]
  },
  {
   "cell_type": "code",
   "execution_count": 10,
   "id": "8830cc01-7380-4f38-99c5-905704ab0c78",
   "metadata": {},
   "outputs": [
    {
     "data": {
      "text/plain": [
       "Glucose            5\n",
       "BloodPressure     33\n",
       "SkinThickness    209\n",
       "Insulin          338\n",
       "BMI               10\n",
       "dtype: int64"
      ]
     },
     "execution_count": 10,
     "metadata": {},
     "output_type": "execute_result"
    }
   ],
   "source": [
    "import numpy as np\n",
    "\n",
    "zero_cols = ['Glucose', 'BloodPressure', 'SkinThickness', 'Insulin', 'BMI']\n",
    "df[zero_cols] = df[zero_cols].replace(0, np.nan)\n",
    "df[zero_cols].isnull().sum()"
   ]
  },
  {
   "cell_type": "markdown",
   "id": "0232b10b-8902-4df2-9c20-fa5492a44ce3",
   "metadata": {},
   "source": [
    "Now it's time to fill those null values with mode or median."
   ]
  },
  {
   "cell_type": "markdown",
   "id": "476f8194-6cb5-443c-9730-4099ee5d90e5",
   "metadata": {},
   "source": [
    "If the distribution has skewness filling with median is more make sense. Otherwise fill with mean value."
   ]
  },
  {
   "cell_type": "code",
   "execution_count": 11,
   "id": "9be18fee-cfeb-46e2-8d33-c9e294b3f833",
   "metadata": {},
   "outputs": [
    {
     "data": {
      "text/plain": [
       "Pregnancies                 0\n",
       "Glucose                     0\n",
       "BloodPressure               0\n",
       "SkinThickness               0\n",
       "Insulin                     0\n",
       "BMI                         0\n",
       "DiabetesPedigreeFunction    0\n",
       "Age                         0\n",
       "Outcome                     0\n",
       "dtype: int64"
      ]
     },
     "execution_count": 11,
     "metadata": {},
     "output_type": "execute_result"
    }
   ],
   "source": [
    "for col in df.columns:\n",
    "    if df[col].isnull().sum() > 0:\n",
    "        if df[col].skew() > 1:\n",
    "            df[col].fillna(df[col].median(), inplace=True)\n",
    "        else:\n",
    "            df[col].fillna(df[col].mean(), inplace=True)\n",
    "\n",
    "# Last check\n",
    "df.isnull().sum()\n"
   ]
  },
  {
   "cell_type": "markdown",
   "id": "60b7fc81-a6b8-4c40-b70d-face4991184b",
   "metadata": {},
   "source": [
    "Let's prepare the data for Train Test Split (We applied this step before Standard Scaling because of preventing data leakage.)"
   ]
  },
  {
   "cell_type": "code",
   "execution_count": 12,
   "id": "6d95a051-629e-4123-8b05-e9e65dba9040",
   "metadata": {},
   "outputs": [],
   "source": [
    "from sklearn.model_selection import train_test_split\n",
    "from sklearn.preprocessing import StandardScaler\n",
    "\n",
    "X = df.drop('Outcome', axis=1)\n",
    "y = df['Outcome']\n",
    "\n",
    "# (80% train, 20% test)\n",
    "X_train, X_test, y_train, y_test = train_test_split(X, y, test_size=0.2, random_state=42, stratify=y)\n",
    "\n",
    "\n",
    "scaler = StandardScaler()\n",
    "X_train = scaler.fit_transform(X_train)\n",
    "X_test = scaler.transform(X_test)\n"
   ]
  },
  {
   "cell_type": "code",
   "execution_count": 13,
   "id": "272baca6-ca20-4c6a-be12-085cb58f05a8",
   "metadata": {},
   "outputs": [],
   "source": [
    "from sklearn.preprocessing import StandardScaler\n",
    "\n",
    "scaler = StandardScaler()\n",
    "\n",
    "# Fit ve transform\n",
    "X_train_scaled = scaler.fit_transform(X_train)\n",
    "X_test_scaled = scaler.transform(X_test)\n",
    "\n"
   ]
  },
  {
   "cell_type": "markdown",
   "id": "37ded9ff-4cd5-426e-834e-afc1659c21dd",
   "metadata": {},
   "source": [
    "**Logistic Regression**"
   ]
  },
  {
   "cell_type": "code",
   "execution_count": 14,
   "id": "d5ff7a8f-8d6c-4e2c-a59a-360bdca8d69f",
   "metadata": {},
   "outputs": [],
   "source": [
    "from sklearn.linear_model import LogisticRegression\n",
    "from sklearn.metrics import classification_report, confusion_matrix, accuracy_score\n",
    "\n",
    "model = LogisticRegression(max_iter=1000)\n",
    "model.fit(X_train_scaled, y_train)\n",
    "y_pred = model.predict(X_test_scaled)\n"
   ]
  },
  {
   "cell_type": "code",
   "execution_count": 15,
   "id": "e982134c-7171-4c62-a9b9-7fa6578c401f",
   "metadata": {},
   "outputs": [
    {
     "name": "stdout",
     "output_type": "stream",
     "text": [
      "Accuracy: 0.6642857142857143\n",
      "Classification Report:\n",
      "               precision    recall  f1-score   support\n",
      "\n",
      "           0       0.74      0.76      0.75        92\n",
      "           1       0.51      0.48      0.49        48\n",
      "\n",
      "    accuracy                           0.66       140\n",
      "   macro avg       0.62      0.62      0.62       140\n",
      "weighted avg       0.66      0.66      0.66       140\n",
      "\n"
     ]
    },
    {
     "data": {
      "image/png": "[encoded data removed]",
      "text/plain": [
       "<Figure size 500x400 with 2 Axes>"
      ]
     },
     "metadata": {},
     "output_type": "display_data"
    }
   ],
   "source": [
    "print(\"Accuracy:\", accuracy_score(y_test, y_pred))\n",
    "\n",
    "# Sınıf detayları\n",
    "print(\"Classification Report:\\n\", classification_report(y_test, y_pred))\n",
    "\n",
    "import seaborn as sns\n",
    "import matplotlib.pyplot as plt\n",
    "cm = confusion_matrix(y_test, y_pred)\n",
    "\n",
    "plt.figure(figsize=(5,4))\n",
    "sns.heatmap(cm, annot=True, fmt=\"d\", cmap=\"Purples\")\n",
    "plt.xlabel(\"Predicted\")\n",
    "plt.ylabel(\"Actual\")\n",
    "plt.title(\"Confusion Matrix\")\n",
    "plt.show()\n",
    "\n"
   ]
  },
  {
   "cell_type": "markdown",
   "id": "01eab160-828a-4872-81a6-70ca3fa1e9c1",
   "metadata": {},
   "source": [
    "Let's continue with **Random Forest** Model:"
   ]
  },
  {
   "cell_type": "code",
   "execution_count": 16,
   "id": "8cdf500e-4723-49a4-99d8-48d1abe9abe5",
   "metadata": {},
   "outputs": [
    {
     "name": "stdout",
     "output_type": "stream",
     "text": [
      "Accuracy: 0.7142857142857143\n",
      "Classification Report:\n",
      "               precision    recall  f1-score   support\n",
      "\n",
      "           0       0.78      0.79      0.78        92\n",
      "           1       0.59      0.56      0.57        48\n",
      "\n",
      "    accuracy                           0.71       140\n",
      "   macro avg       0.68      0.68      0.68       140\n",
      "weighted avg       0.71      0.71      0.71       140\n",
      "\n",
      "Confusion Matrix:\n",
      " [[73 19]\n",
      " [21 27]]\n"
     ]
    }
   ],
   "source": [
    "from sklearn.ensemble import RandomForestClassifier\n",
    "from sklearn.metrics import classification_report, confusion_matrix, accuracy_score\n",
    "\n",
    "# RF model\n",
    "rf_model = RandomForestClassifier(random_state=42)\n",
    "rf_model.fit(X_train, y_train)\n",
    "\n",
    "y_pred_rf = rf_model.predict(X_test)\n",
    "\n",
    "# Results\n",
    "print(\"Accuracy:\", accuracy_score(y_test, y_pred_rf))\n",
    "print(\"Classification Report:\\n\", classification_report(y_test, y_pred_rf))\n",
    "print(\"Confusion Matrix:\\n\", confusion_matrix(y_test, y_pred_rf))\n"
   ]
  },
  {
   "cell_type": "markdown",
   "id": "79c12e69-ec69-491c-9215-3fefe39a5e08",
   "metadata": {},
   "source": [
    "**Let's upload the preprocessed data to our S3:**"
   ]
  },
  {
   "cell_type": "code",
   "execution_count": 17,
   "id": "cfc9c358-ebe5-47b3-94bb-efff17e7c80c",
   "metadata": {},
   "outputs": [],
   "source": [
    "df.to_csv(\"preprocessed_train.csv\", index=False)\n",
    "\n",
    "s3 = boto3.client('s3')\n",
    "bucket_name = \"mydiabetdatabucket\"\n",
    "s3.upload_file(\"preprocessed_train.csv\", bucket_name, \"diabetes/preprocessed_train.csv\")"
   ]
  },
  {
   "cell_type": "markdown",
   "id": "95e53846-d1a3-4de1-9a42-ee2d5ef00856",
   "metadata": {},
   "source": [
    "SageMaker expects the target label to be in the first column of the CSV file. Let's do it:"
   ]
  },
  {
   "cell_type": "code",
   "execution_count": 18,
   "id": "4584a65e-b977-4d2a-b9ed-70d2d892fffd",
   "metadata": {},
   "outputs": [],
   "source": [
    "label = df.pop('Outcome')\n",
    "df.insert(0, 'Outcome', label)\n",
    "\n",
    "df.to_csv(\"preprocessed_train.csv\", index=False)\n",
    "s3.upload_file(\"preprocessed_train.csv\", \"mydiabetdatabucket\", \"diabetes/preprocessed_train.csv\")"
   ]
  },
  {
   "cell_type": "markdown",
   "id": "1b0de189-41e8-4dfa-a99c-d4184d89ea45",
   "metadata": {},
   "source": [
    "**XGBoost**"
   ]
  },
  {
   "cell_type": "code",
   "execution_count": 19,
   "id": "5ed01183-7287-4c23-9fef-ea5f7fdd9ee2",
   "metadata": {},
   "outputs": [
    {
     "name": "stderr",
     "output_type": "stream",
     "text": [
      "/home/ec2-user/anaconda3/envs/python3/lib/python3.10/site-packages/pydantic/_internal/_fields.py:172: UserWarning: Field name \"json\" in \"MonitoringDatasetFormat\" shadows an attribute in parent \"Base\"\n",
      "  warnings.warn(\n"
     ]
    },
    {
     "data": {
      "text/html": [
       "<pre style=\"white-space:pre;overflow-x:auto;line-height:normal;font-family:Menlo,'DejaVu Sans Mono',consolas,'Courier New',monospace\"><span style=\"color: #7fbfbf; text-decoration-color: #7fbfbf\">[05/25/25 15:27:58] </span><span style=\"color: #0069ff; text-decoration-color: #0069ff; font-weight: bold\">INFO    </span> Found credentials from IAM Role:                                   <a href=\"file:///home/ec2-user/anaconda3/envs/python3/lib/python3.10/site-packages/botocore/credentials.py\" target=\"_blank\"><span style=\"color: #7f7f7f; text-decoration-color: #7f7f7f\">credentials.py</span></a><span style=\"color: #7f7f7f; text-decoration-color: #7f7f7f\">:</span><a href=\"file:///home/ec2-user/anaconda3/envs/python3/lib/python3.10/site-packages/botocore/credentials.py#1132\" target=\"_blank\"><span style=\"color: #7f7f7f; text-decoration-color: #7f7f7f\">1132</span></a>\n",
       "<span style=\"color: #7fbfbf; text-decoration-color: #7fbfbf\">                    </span>         BaseNotebookInstanceEc2InstanceRole                                <span style=\"color: #7f7f7f; text-decoration-color: #7f7f7f\">                   </span>\n",
       "</pre>\n"
      ],
      "text/plain": [
       "\u001b[2;36m[05/25/25 15:27:58]\u001b[0m\u001b[2;36m \u001b[0m\u001b[1;38;2;0;105;255mINFO    \u001b[0m Found credentials from IAM Role:                                   \u001b]8;id=147070;file:///home/ec2-user/anaconda3/envs/python3/lib/python3.10/site-packages/botocore/credentials.py\u001b\\\u001b[2mcredentials.py\u001b[0m\u001b]8;;\u001b\\\u001b[2m:\u001b[0m\u001b]8;id=371847;file:///home/ec2-user/anaconda3/envs/python3/lib/python3.10/site-packages/botocore/credentials.py#1132\u001b\\\u001b[2m1132\u001b[0m\u001b]8;;\u001b\\\n",
       "\u001b[2;36m                    \u001b[0m         BaseNotebookInstanceEc2InstanceRole                                \u001b[2m                   \u001b[0m\n"
      ]
     },
     "metadata": {},
     "output_type": "display_data"
    },
    {
     "name": "stdout",
     "output_type": "stream",
     "text": [
      "sagemaker.config INFO - Not applying SDK defaults from location: /etc/xdg/sagemaker/config.yaml\n",
      "sagemaker.config INFO - Not applying SDK defaults from location: /home/ec2-user/.config/sagemaker/config.yaml\n"
     ]
    },
    {
     "data": {
      "text/html": [
       "<pre style=\"white-space:pre;overflow-x:auto;line-height:normal;font-family:Menlo,'DejaVu Sans Mono',consolas,'Courier New',monospace\"><span style=\"color: #7fbfbf; text-decoration-color: #7fbfbf\">[05/25/25 15:27:59] </span><span style=\"color: #0069ff; text-decoration-color: #0069ff; font-weight: bold\">INFO    </span> Ignoring unnecessary instance type: <span style=\"color: #e100e1; text-decoration-color: #e100e1; font-style: italic\">None</span>.                            <a href=\"file:///home/ec2-user/anaconda3/envs/python3/lib/python3.10/site-packages/sagemaker/image_uris.py\" target=\"_blank\"><span style=\"color: #7f7f7f; text-decoration-color: #7f7f7f\">image_uris.py</span></a><span style=\"color: #7f7f7f; text-decoration-color: #7f7f7f\">:</span><a href=\"file:///home/ec2-user/anaconda3/envs/python3/lib/python3.10/site-packages/sagemaker/image_uris.py#530\" target=\"_blank\"><span style=\"color: #7f7f7f; text-decoration-color: #7f7f7f\">530</span></a>\n",
       "</pre>\n"
      ],
      "text/plain": [
       "\u001b[2;36m[05/25/25 15:27:59]\u001b[0m\u001b[2;36m \u001b[0m\u001b[1;38;2;0;105;255mINFO    \u001b[0m Ignoring unnecessary instance type: \u001b[3;38;2;225;0;225mNone\u001b[0m.                            \u001b]8;id=783639;file:///home/ec2-user/anaconda3/envs/python3/lib/python3.10/site-packages/sagemaker/image_uris.py\u001b\\\u001b[2mimage_uris.py\u001b[0m\u001b]8;;\u001b\\\u001b[2m:\u001b[0m\u001b]8;id=129311;file:///home/ec2-user/anaconda3/envs/python3/lib/python3.10/site-packages/sagemaker/image_uris.py#530\u001b\\\u001b[2m530\u001b[0m\u001b]8;;\u001b\\\n"
      ]
     },
     "metadata": {},
     "output_type": "display_data"
    },
    {
     "data": {
      "text/html": [
       "<pre style=\"white-space:pre;overflow-x:auto;line-height:normal;font-family:Menlo,'DejaVu Sans Mono',consolas,'Courier New',monospace\"><span style=\"color: #7fbfbf; text-decoration-color: #7fbfbf\">                    </span><span style=\"color: #0069ff; text-decoration-color: #0069ff; font-weight: bold\">INFO    </span> SageMaker Python SDK will collect telemetry to help us better  <a href=\"file:///home/ec2-user/anaconda3/envs/python3/lib/python3.10/site-packages/sagemaker/telemetry/telemetry_logging.py\" target=\"_blank\"><span style=\"color: #7f7f7f; text-decoration-color: #7f7f7f\">telemetry_logging.py</span></a><span style=\"color: #7f7f7f; text-decoration-color: #7f7f7f\">:</span><a href=\"file:///home/ec2-user/anaconda3/envs/python3/lib/python3.10/site-packages/sagemaker/telemetry/telemetry_logging.py#91\" target=\"_blank\"><span style=\"color: #7f7f7f; text-decoration-color: #7f7f7f\">91</span></a>\n",
       "<span style=\"color: #7fbfbf; text-decoration-color: #7fbfbf\">                    </span>         understand our user's needs, diagnose issues, and deliver      <span style=\"color: #7f7f7f; text-decoration-color: #7f7f7f\">                       </span>\n",
       "<span style=\"color: #7fbfbf; text-decoration-color: #7fbfbf\">                    </span>         additional features.                                           <span style=\"color: #7f7f7f; text-decoration-color: #7f7f7f\">                       </span>\n",
       "<span style=\"color: #7fbfbf; text-decoration-color: #7fbfbf\">                    </span>         To opt out of telemetry, please disable via TelemetryOptOut    <span style=\"color: #7f7f7f; text-decoration-color: #7f7f7f\">                       </span>\n",
       "<span style=\"color: #7fbfbf; text-decoration-color: #7fbfbf\">                    </span>         parameter in SDK defaults config. For more information, refer  <span style=\"color: #7f7f7f; text-decoration-color: #7f7f7f\">                       </span>\n",
       "<span style=\"color: #7fbfbf; text-decoration-color: #7fbfbf\">                    </span>         to                                                             <span style=\"color: #7f7f7f; text-decoration-color: #7f7f7f\">                       </span>\n",
       "<span style=\"color: #7fbfbf; text-decoration-color: #7fbfbf\">                    </span>         <span style=\"color: #0069ff; text-decoration-color: #0069ff; text-decoration: underline\">https://sagemaker.readthedocs.io/en/stable/overview.html#confi</span> <span style=\"color: #7f7f7f; text-decoration-color: #7f7f7f\">                       </span>\n",
       "<span style=\"color: #7fbfbf; text-decoration-color: #7fbfbf\">                    </span>         <span style=\"color: #0069ff; text-decoration-color: #0069ff; text-decoration: underline\">guring-and-using-defaults-with-the-sagemaker-python-sdk.</span>       <span style=\"color: #7f7f7f; text-decoration-color: #7f7f7f\">                       </span>\n",
       "</pre>\n"
      ],
      "text/plain": [
       "\u001b[2;36m                   \u001b[0m\u001b[2;36m \u001b[0m\u001b[1;38;2;0;105;255mINFO    \u001b[0m SageMaker Python SDK will collect telemetry to help us better  \u001b]8;id=593379;file:///home/ec2-user/anaconda3/envs/python3/lib/python3.10/site-packages/sagemaker/telemetry/telemetry_logging.py\u001b\\\u001b[2mtelemetry_logging.py\u001b[0m\u001b]8;;\u001b\\\u001b[2m:\u001b[0m\u001b]8;id=191981;file:///home/ec2-user/anaconda3/envs/python3/lib/python3.10/site-packages/sagemaker/telemetry/telemetry_logging.py#91\u001b\\\u001b[2m91\u001b[0m\u001b]8;;\u001b\\\n",
       "\u001b[2;36m                    \u001b[0m         understand our user's needs, diagnose issues, and deliver      \u001b[2m                       \u001b[0m\n",
       "\u001b[2;36m                    \u001b[0m         additional features.                                           \u001b[2m                       \u001b[0m\n",
       "\u001b[2;36m                    \u001b[0m         To opt out of telemetry, please disable via TelemetryOptOut    \u001b[2m                       \u001b[0m\n",
       "\u001b[2;36m                    \u001b[0m         parameter in SDK defaults config. For more information, refer  \u001b[2m                       \u001b[0m\n",
       "\u001b[2;36m                    \u001b[0m         to                                                             \u001b[2m                       \u001b[0m\n",
       "\u001b[2;36m                    \u001b[0m         \u001b[4;38;2;0;105;255mhttps://sagemaker.readthedocs.io/en/stable/overview.html#confi\u001b[0m \u001b[2m                       \u001b[0m\n",
       "\u001b[2;36m                    \u001b[0m         \u001b[4;38;2;0;105;255mguring-and-using-defaults-with-the-sagemaker-python-sdk.\u001b[0m       \u001b[2m                       \u001b[0m\n"
      ]
     },
     "metadata": {},
     "output_type": "display_data"
    },
    {
     "data": {
      "text/html": [
       "<pre style=\"white-space:pre;overflow-x:auto;line-height:normal;font-family:Menlo,'DejaVu Sans Mono',consolas,'Courier New',monospace\"><span style=\"color: #7fbfbf; text-decoration-color: #7fbfbf\">                    </span><span style=\"color: #0069ff; text-decoration-color: #0069ff; font-weight: bold\">INFO    </span> Creating training-job with name:                                       <a href=\"file:///home/ec2-user/anaconda3/envs/python3/lib/python3.10/site-packages/sagemaker/session.py\" target=\"_blank\"><span style=\"color: #7f7f7f; text-decoration-color: #7f7f7f\">session.py</span></a><span style=\"color: #7f7f7f; text-decoration-color: #7f7f7f\">:</span><a href=\"file:///home/ec2-user/anaconda3/envs/python3/lib/python3.10/site-packages/sagemaker/session.py#1042\" target=\"_blank\"><span style=\"color: #7f7f7f; text-decoration-color: #7f7f7f\">1042</span></a>\n",
       "<span style=\"color: #7fbfbf; text-decoration-color: #7fbfbf\">                    </span>         sagemaker-xgboost-<span style=\"color: #008080; text-decoration-color: #008080; font-weight: bold\">2025</span>-05-25-15-27-59-408                              <span style=\"color: #7f7f7f; text-decoration-color: #7f7f7f\">               </span>\n",
       "</pre>\n"
      ],
      "text/plain": [
       "\u001b[2;36m                   \u001b[0m\u001b[2;36m \u001b[0m\u001b[1;38;2;0;105;255mINFO    \u001b[0m Creating training-job with name:                                       \u001b]8;id=42738;file:///home/ec2-user/anaconda3/envs/python3/lib/python3.10/site-packages/sagemaker/session.py\u001b\\\u001b[2msession.py\u001b[0m\u001b]8;;\u001b\\\u001b[2m:\u001b[0m\u001b]8;id=828752;file:///home/ec2-user/anaconda3/envs/python3/lib/python3.10/site-packages/sagemaker/session.py#1042\u001b\\\u001b[2m1042\u001b[0m\u001b]8;;\u001b\\\n",
       "\u001b[2;36m                    \u001b[0m         sagemaker-xgboost-\u001b[1;36m2025\u001b[0m-05-25-15-27-59-408                              \u001b[2m               \u001b[0m\n"
      ]
     },
     "metadata": {},
     "output_type": "display_data"
    },
    {
     "name": "stdout",
     "output_type": "stream",
     "text": [
      "2025-05-25 15:28:00 Starting - Starting the training job...\n",
      "2025-05-25 15:28:33 Downloading - Downloading input data......\n",
      "2025-05-25 15:29:13 Downloading - Downloading the training image......\n",
      "2025-05-25 15:30:24 Training - Training image download completed. Training in progress.\n",
      "2025-05-25 15:30:24 Uploading - Uploading generated training model\u001b[34m/miniconda3/lib/python3.8/site-packages/xgboost/compat.py:36: FutureWarning: pandas.Int64Index is deprecated and will be removed from pandas in a future version. Use pandas.Index with the appropriate dtype instead.\n",
      "  from pandas import MultiIndex, Int64Index\u001b[0m\n",
      "\u001b[34m[2025-05-25 15:30:18.855 ip-10-0-166-250.eu-north-1.compute.internal:7 INFO utils.py:28] RULE_JOB_STOP_SIGNAL_FILENAME: None\u001b[0m\n",
      "\u001b[34m[2025-05-25 15:30:18.881 ip-10-0-166-250.eu-north-1.compute.internal:7 INFO profiler_config_parser.py:111] User has disabled profiler.\u001b[0m\n",
      "\u001b[34m[2025-05-25:15:30:19:INFO] Imported framework sagemaker_xgboost_container.training\u001b[0m\n",
      "\u001b[34m[2025-05-25:15:30:19:INFO] Failed to parse hyperparameter objective value binary:logistic to Json.\u001b[0m\n",
      "\u001b[34mReturning the value itself\u001b[0m\n",
      "\u001b[34m[2025-05-25:15:30:19:INFO] No GPUs detected (normal if no gpus installed)\u001b[0m\n",
      "\u001b[34m[2025-05-25:15:30:19:INFO] Running XGBoost Sagemaker in algorithm mode\u001b[0m\n",
      "\u001b[34m[2025-05-25:15:30:19:INFO] Determined 0 GPU(s) available on the instance.\u001b[0m\n",
      "\u001b[34m[2025-05-25:15:30:19:INFO] Determined delimiter of CSV input is ','\u001b[0m\n",
      "\u001b[34m[2025-05-25:15:30:19:INFO] files path: /opt/ml/input/data/train\u001b[0m\n",
      "\u001b[34m[2025-05-25:15:30:19:INFO] Determined delimiter of CSV input is ','\u001b[0m\n",
      "\u001b[34m[2025-05-25:15:30:19:INFO] Single node training.\u001b[0m\n",
      "\u001b[34m[2025-05-25:15:30:19:INFO] Train matrix has 701 rows and 8 columns\u001b[0m\n",
      "\u001b[34m[2025-05-25 15:30:19.302 ip-10-0-166-250.eu-north-1.compute.internal:7 INFO json_config.py:92] Creating hook from json_config at /opt/ml/input/config/debughookconfig.json.\u001b[0m\n",
      "\u001b[34m[2025-05-25 15:30:19.302 ip-10-0-166-250.eu-north-1.compute.internal:7 INFO hook.py:206] tensorboard_dir has not been set for the hook. SMDebug will not be exporting tensorboard summaries.\u001b[0m\n",
      "\u001b[34m[2025-05-25 15:30:19.303 ip-10-0-166-250.eu-north-1.compute.internal:7 INFO hook.py:259] Saving to /opt/ml/output/tensors\u001b[0m\n",
      "\u001b[34m[2025-05-25 15:30:19.303 ip-10-0-166-250.eu-north-1.compute.internal:7 INFO state_store.py:77] The checkpoint config file /opt/ml/input/config/checkpointconfig.json does not exist.\u001b[0m\n",
      "\u001b[34m[2025-05-25:15:30:19:INFO] Debug hook created from config\u001b[0m\n",
      "\u001b[34m[15:30:19] WARNING: ../src/learner.cc:1115: Starting in XGBoost 1.3.0, the default evaluation metric used with the objective 'binary:logistic' was changed from 'error' to 'logloss'. Explicitly set eval_metric if you'd like to restore the old behavior.\u001b[0m\n",
      "\u001b[34m[2025-05-25 15:30:19.340 ip-10-0-166-250.eu-north-1.compute.internal:7 INFO hook.py:427] Monitoring the collections: metrics\u001b[0m\n",
      "\u001b[34m[2025-05-25 15:30:19.344 ip-10-0-166-250.eu-north-1.compute.internal:7 INFO hook.py:491] Hook is writing from the hook with pid: 7\u001b[0m\n",
      "\u001b[34m[0]#011train-logloss:0.61487\u001b[0m\n",
      "\u001b[34m[1]#011train-logloss:0.56086\u001b[0m\n",
      "\u001b[34m[2]#011train-logloss:0.52027\u001b[0m\n",
      "\u001b[34m[3]#011train-logloss:0.48609\u001b[0m\n",
      "\u001b[34m[4]#011train-logloss:0.46581\u001b[0m\n",
      "\u001b[34m[5]#011train-logloss:0.44361\u001b[0m\n",
      "\u001b[34m[6]#011train-logloss:0.42797\u001b[0m\n",
      "\u001b[34m[7]#011train-logloss:0.41371\u001b[0m\n",
      "\u001b[34m[8]#011train-logloss:0.40353\u001b[0m\n",
      "\u001b[34m[9]#011train-logloss:0.39877\u001b[0m\n",
      "\u001b[34m[10]#011train-logloss:0.38860\u001b[0m\n",
      "\u001b[34m[11]#011train-logloss:0.37836\u001b[0m\n",
      "\u001b[34m[12]#011train-logloss:0.37555\u001b[0m\n",
      "\u001b[34m[13]#011train-logloss:0.37011\u001b[0m\n",
      "\u001b[34m[14]#011train-logloss:0.36879\u001b[0m\n",
      "\u001b[34m[15]#011train-logloss:0.36734\u001b[0m\n",
      "\u001b[34m[16]#011train-logloss:0.36476\u001b[0m\n",
      "\u001b[34m[17]#011train-logloss:0.36243\u001b[0m\n",
      "\u001b[34m[18]#011train-logloss:0.35674\u001b[0m\n",
      "\u001b[34m[19]#011train-logloss:0.35242\u001b[0m\n",
      "\u001b[34m[20]#011train-logloss:0.34696\u001b[0m\n",
      "\u001b[34m[21]#011train-logloss:0.34237\u001b[0m\n",
      "\u001b[34m[22]#011train-logloss:0.33748\u001b[0m\n",
      "\u001b[34m[23]#011train-logloss:0.33750\u001b[0m\n",
      "\u001b[34m[24]#011train-logloss:0.33748\u001b[0m\n",
      "\u001b[34m[25]#011train-logloss:0.33747\u001b[0m\n",
      "\u001b[34m[26]#011train-logloss:0.33557\u001b[0m\n",
      "\u001b[34m[27]#011train-logloss:0.33306\u001b[0m\n",
      "\u001b[34m[28]#011train-logloss:0.33023\u001b[0m\n",
      "\u001b[34m[29]#011train-logloss:0.33022\u001b[0m\n",
      "\u001b[34m[30]#011train-logloss:0.33022\u001b[0m\n",
      "\u001b[34m[31]#011train-logloss:0.33023\u001b[0m\n",
      "\u001b[34m[32]#011train-logloss:0.33022\u001b[0m\n",
      "\u001b[34m[33]#011train-logloss:0.32770\u001b[0m\n",
      "\u001b[34m[34]#011train-logloss:0.32564\u001b[0m\n",
      "\u001b[34m[35]#011train-logloss:0.32564\u001b[0m\n",
      "\u001b[34m[36]#011train-logloss:0.32565\u001b[0m\n",
      "\u001b[34m[37]#011train-logloss:0.32565\u001b[0m\n",
      "\u001b[34m[38]#011train-logloss:0.32566\u001b[0m\n",
      "\u001b[34m[39]#011train-logloss:0.32420\u001b[0m\n",
      "\u001b[34m[40]#011train-logloss:0.32309\u001b[0m\n",
      "\u001b[34m[41]#011train-logloss:0.31900\u001b[0m\n",
      "\u001b[34m[42]#011train-logloss:0.31440\u001b[0m\n",
      "\u001b[34m[43]#011train-logloss:0.31444\u001b[0m\n",
      "\u001b[34m[44]#011train-logloss:0.31391\u001b[0m\n",
      "\u001b[34m[45]#011train-logloss:0.31187\u001b[0m\n",
      "\u001b[34m[46]#011train-logloss:0.31012\u001b[0m\n",
      "\u001b[34m[47]#011train-logloss:0.31015\u001b[0m\n",
      "\u001b[34m[48]#011train-logloss:0.30907\u001b[0m\n",
      "\u001b[34m[49]#011train-logloss:0.30905\u001b[0m\n",
      "\u001b[34m[50]#011train-logloss:0.30908\u001b[0m\n",
      "\u001b[34m[51]#011train-logloss:0.30774\u001b[0m\n",
      "\u001b[34m[52]#011train-logloss:0.30708\u001b[0m\n",
      "\u001b[34m[53]#011train-logloss:0.30704\u001b[0m\n",
      "\u001b[34m[54]#011train-logloss:0.30533\u001b[0m\n",
      "\u001b[34m[55]#011train-logloss:0.30532\u001b[0m\n",
      "\u001b[34m[56]#011train-logloss:0.30532\u001b[0m\n",
      "\u001b[34m[57]#011train-logloss:0.30532\u001b[0m\n",
      "\u001b[34m[58]#011train-logloss:0.30287\u001b[0m\n",
      "\u001b[34m[59]#011train-logloss:0.30022\u001b[0m\n",
      "\u001b[34m[60]#011train-logloss:0.29844\u001b[0m\n",
      "\u001b[34m[61]#011train-logloss:0.29578\u001b[0m\n",
      "\u001b[34m[62]#011train-logloss:0.29578\u001b[0m\n",
      "\u001b[34m[63]#011train-logloss:0.29578\u001b[0m\n",
      "\u001b[34m[64]#011train-logloss:0.29576\u001b[0m\n",
      "\u001b[34m[65]#011train-logloss:0.29577\u001b[0m\n",
      "\u001b[34m[66]#011train-logloss:0.29444\u001b[0m\n",
      "\u001b[34m[67]#011train-logloss:0.29443\u001b[0m\n",
      "\u001b[34m[68]#011train-logloss:0.29442\u001b[0m\n",
      "\u001b[34m[69]#011train-logloss:0.29443\u001b[0m\n",
      "\u001b[34m[70]#011train-logloss:0.29443\u001b[0m\n",
      "\u001b[34m[71]#011train-logloss:0.29442\u001b[0m\n",
      "\u001b[34m[72]#011train-logloss:0.29443\u001b[0m\n",
      "\u001b[34m[73]#011train-logloss:0.29442\u001b[0m\n",
      "\u001b[34m[74]#011train-logloss:0.29209\u001b[0m\n",
      "\u001b[34m[75]#011train-logloss:0.29046\u001b[0m\n",
      "\u001b[34m[76]#011train-logloss:0.28808\u001b[0m\n",
      "\u001b[34m[77]#011train-logloss:0.28628\u001b[0m\n",
      "\u001b[34m[78]#011train-logloss:0.28376\u001b[0m\n",
      "\u001b[34m[79]#011train-logloss:0.28375\u001b[0m\n",
      "\u001b[34m[80]#011train-logloss:0.28377\u001b[0m\n",
      "\u001b[34m[81]#011train-logloss:0.28256\u001b[0m\n",
      "\u001b[34m[82]#011train-logloss:0.28256\u001b[0m\n",
      "\u001b[34m[83]#011train-logloss:0.28256\u001b[0m\n",
      "\u001b[34m[84]#011train-logloss:0.28033\u001b[0m\n",
      "\u001b[34m[85]#011train-logloss:0.28033\u001b[0m\n",
      "\u001b[34m[86]#011train-logloss:0.28034\u001b[0m\n",
      "\u001b[34m[87]#011train-logloss:0.27843\u001b[0m\n",
      "\u001b[34m[88]#011train-logloss:0.27841\u001b[0m\n",
      "\u001b[34m[89]#011train-logloss:0.27840\u001b[0m\n",
      "\u001b[34m[90]#011train-logloss:0.27844\u001b[0m\n",
      "\u001b[34m[91]#011train-logloss:0.27842\u001b[0m\n",
      "\u001b[34m[92]#011train-logloss:0.27841\u001b[0m\n",
      "\u001b[34m[93]#011train-logloss:0.27842\u001b[0m\n",
      "\u001b[34m[94]#011train-logloss:0.27629\u001b[0m\n",
      "\u001b[34m[95]#011train-logloss:0.27629\u001b[0m\n",
      "\u001b[34m[96]#011train-logloss:0.27464\u001b[0m\n",
      "\u001b[34m[97]#011train-logloss:0.27464\u001b[0m\n",
      "\u001b[34m[98]#011train-logloss:0.27463\u001b[0m\n",
      "\u001b[34m[99]#011train-logloss:0.27464\u001b[0m\n",
      "\n",
      "2025-05-25 15:30:43 Completed - Training job completed\n",
      "Training seconds: 130\n",
      "Billable seconds: 130\n"
     ]
    }
   ],
   "source": [
    "import sagemaker\n",
    "from sagemaker.inputs import TrainingInput\n",
    "from sagemaker.estimator import Estimator\n",
    "\n",
    "# SageMaker session ve role\n",
    "session = sagemaker.Session()\n",
    "role = sagemaker.get_execution_role()\n",
    "\n",
    "# S3 path\n",
    "s3_input_path = \"s3://mydiabetdatabucket/diabetes/preprocessed_train.csv\"\n",
    "\n",
    "train_input = TrainingInput(s3_data=s3_input_path, content_type=\"csv\")\n",
    "\n",
    "# XGBoost Estimator\n",
    "xgb_estimator = Estimator(\n",
    "    image_uri=sagemaker.image_uris.retrieve(\"xgboost\", session.boto_region_name, version=\"1.5-1\"),\n",
    "    role=role,\n",
    "    instance_count=1,\n",
    "    instance_type=\"ml.m5.large\",  # Kotasını açtırdığın instance tipi\n",
    "    output_path=f\"s3://{session.default_bucket()}/xgboost-output\",\n",
    "    sagemaker_session=session\n",
    ")\n",
    "\n",
    "xgb_estimator.set_hyperparameters(\n",
    "    objective=\"binary:logistic\",\n",
    "    num_round=100,\n",
    "    max_depth=5,\n",
    "    eta=0.2,\n",
    "    gamma=4,\n",
    "    subsample=0.7,\n",
    "    verbosity=1\n",
    ")\n",
    "\n",
    "xgb_estimator.fit({\"train\": train_input})\n"
   ]
  },
  {
   "cell_type": "markdown",
   "id": "5d50392a-a193-45fb-95e7-3eb7b79b5e92",
   "metadata": {},
   "source": [
    "We define an XGBoost model using SageMaker.\n",
    "It reads data from S3, trains it on an ml.m5.large instance, and saves the model output back to S3."
   ]
  },
  {
   "cell_type": "markdown",
   "id": "5dc0680b-3978-433c-9a57-b584fbb6fe22",
   "metadata": {},
   "source": [
    "Let's Deploy the model and see the results:"
   ]
  },
  {
   "cell_type": "code",
   "execution_count": 20,
   "id": "23dcfb6c-0a0d-438e-9619-478d5cd11c1f",
   "metadata": {},
   "outputs": [
    {
     "data": {
      "text/html": [
       "<pre style=\"white-space:pre;overflow-x:auto;line-height:normal;font-family:Menlo,'DejaVu Sans Mono',consolas,'Courier New',monospace\"><span style=\"color: #7fbfbf; text-decoration-color: #7fbfbf\">[05/25/25 15:31:16] </span><span style=\"color: #0069ff; text-decoration-color: #0069ff; font-weight: bold\">INFO    </span> Creating model with name: sagemaker-xgboost-<span style=\"color: #008080; text-decoration-color: #008080; font-weight: bold\">2025</span>-05-25-15-31-16-649    <a href=\"file:///home/ec2-user/anaconda3/envs/python3/lib/python3.10/site-packages/sagemaker/session.py\" target=\"_blank\"><span style=\"color: #7f7f7f; text-decoration-color: #7f7f7f\">session.py</span></a><span style=\"color: #7f7f7f; text-decoration-color: #7f7f7f\">:</span><a href=\"file:///home/ec2-user/anaconda3/envs/python3/lib/python3.10/site-packages/sagemaker/session.py#4094\" target=\"_blank\"><span style=\"color: #7f7f7f; text-decoration-color: #7f7f7f\">4094</span></a>\n",
       "</pre>\n"
      ],
      "text/plain": [
       "\u001b[2;36m[05/25/25 15:31:16]\u001b[0m\u001b[2;36m \u001b[0m\u001b[1;38;2;0;105;255mINFO    \u001b[0m Creating model with name: sagemaker-xgboost-\u001b[1;36m2025\u001b[0m-05-25-15-31-16-649    \u001b]8;id=720152;file:///home/ec2-user/anaconda3/envs/python3/lib/python3.10/site-packages/sagemaker/session.py\u001b\\\u001b[2msession.py\u001b[0m\u001b]8;;\u001b\\\u001b[2m:\u001b[0m\u001b]8;id=755904;file:///home/ec2-user/anaconda3/envs/python3/lib/python3.10/site-packages/sagemaker/session.py#4094\u001b\\\u001b[2m4094\u001b[0m\u001b]8;;\u001b\\\n"
      ]
     },
     "metadata": {},
     "output_type": "display_data"
    },
    {
     "data": {
      "text/html": [
       "<pre style=\"white-space:pre;overflow-x:auto;line-height:normal;font-family:Menlo,'DejaVu Sans Mono',consolas,'Courier New',monospace\"><span style=\"color: #7fbfbf; text-decoration-color: #7fbfbf\">[05/25/25 15:31:17] </span><span style=\"color: #0069ff; text-decoration-color: #0069ff; font-weight: bold\">INFO    </span> Creating endpoint-config with name                                     <a href=\"file:///home/ec2-user/anaconda3/envs/python3/lib/python3.10/site-packages/sagemaker/session.py\" target=\"_blank\"><span style=\"color: #7f7f7f; text-decoration-color: #7f7f7f\">session.py</span></a><span style=\"color: #7f7f7f; text-decoration-color: #7f7f7f\">:</span><a href=\"file:///home/ec2-user/anaconda3/envs/python3/lib/python3.10/site-packages/sagemaker/session.py#6019\" target=\"_blank\"><span style=\"color: #7f7f7f; text-decoration-color: #7f7f7f\">6019</span></a>\n",
       "<span style=\"color: #7fbfbf; text-decoration-color: #7fbfbf\">                    </span>         sagemaker-xgboost-<span style=\"color: #008080; text-decoration-color: #008080; font-weight: bold\">2025</span>-05-25-15-31-16-649                              <span style=\"color: #7f7f7f; text-decoration-color: #7f7f7f\">               </span>\n",
       "</pre>\n"
      ],
      "text/plain": [
       "\u001b[2;36m[05/25/25 15:31:17]\u001b[0m\u001b[2;36m \u001b[0m\u001b[1;38;2;0;105;255mINFO    \u001b[0m Creating endpoint-config with name                                     \u001b]8;id=549200;file:///home/ec2-user/anaconda3/envs/python3/lib/python3.10/site-packages/sagemaker/session.py\u001b\\\u001b[2msession.py\u001b[0m\u001b]8;;\u001b\\\u001b[2m:\u001b[0m\u001b]8;id=115735;file:///home/ec2-user/anaconda3/envs/python3/lib/python3.10/site-packages/sagemaker/session.py#6019\u001b\\\u001b[2m6019\u001b[0m\u001b]8;;\u001b\\\n",
       "\u001b[2;36m                    \u001b[0m         sagemaker-xgboost-\u001b[1;36m2025\u001b[0m-05-25-15-31-16-649                              \u001b[2m               \u001b[0m\n"
      ]
     },
     "metadata": {},
     "output_type": "display_data"
    },
    {
     "data": {
      "text/html": [
       "<pre style=\"white-space:pre;overflow-x:auto;line-height:normal;font-family:Menlo,'DejaVu Sans Mono',consolas,'Courier New',monospace\"><span style=\"color: #7fbfbf; text-decoration-color: #7fbfbf\">                    </span><span style=\"color: #0069ff; text-decoration-color: #0069ff; font-weight: bold\">INFO    </span> Creating endpoint with name sagemaker-xgboost-<span style=\"color: #008080; text-decoration-color: #008080; font-weight: bold\">2025</span>-05-25-15-31-16-649  <a href=\"file:///home/ec2-user/anaconda3/envs/python3/lib/python3.10/site-packages/sagemaker/session.py\" target=\"_blank\"><span style=\"color: #7f7f7f; text-decoration-color: #7f7f7f\">session.py</span></a><span style=\"color: #7f7f7f; text-decoration-color: #7f7f7f\">:</span><a href=\"file:///home/ec2-user/anaconda3/envs/python3/lib/python3.10/site-packages/sagemaker/session.py#4841\" target=\"_blank\"><span style=\"color: #7f7f7f; text-decoration-color: #7f7f7f\">4841</span></a>\n",
       "</pre>\n"
      ],
      "text/plain": [
       "\u001b[2;36m                   \u001b[0m\u001b[2;36m \u001b[0m\u001b[1;38;2;0;105;255mINFO    \u001b[0m Creating endpoint with name sagemaker-xgboost-\u001b[1;36m2025\u001b[0m-05-25-15-31-16-649  \u001b]8;id=426689;file:///home/ec2-user/anaconda3/envs/python3/lib/python3.10/site-packages/sagemaker/session.py\u001b\\\u001b[2msession.py\u001b[0m\u001b]8;;\u001b\\\u001b[2m:\u001b[0m\u001b]8;id=766496;file:///home/ec2-user/anaconda3/envs/python3/lib/python3.10/site-packages/sagemaker/session.py#4841\u001b\\\u001b[2m4841\u001b[0m\u001b]8;;\u001b\\\n"
      ]
     },
     "metadata": {},
     "output_type": "display_data"
    },
    {
     "name": "stdout",
     "output_type": "stream",
     "text": [
      "--------!"
     ]
    }
   ],
   "source": [
    "from sagemaker.serializers import CSVSerializer\n",
    "from sagemaker.predictor import Predictor\n",
    "\n",
    "# Deploy the trained model to a SageMaker endpoint\n",
    "predictor = xgb_estimator.deploy(\n",
    "    initial_instance_count=1,\n",
    "    instance_type=\"ml.m5.large\",  \n",
    "    serializer=CSVSerializer()   \n",
    ")\n"
   ]
  },
  {
   "cell_type": "markdown",
   "id": "45452eed-4b2d-4280-99ea-a8621f41cc8a",
   "metadata": {},
   "source": [
    "We successfully deployed the model. Now it's time to get classification report. I have a test.csv file and let's load it:"
   ]
  },
  {
   "cell_type": "code",
   "execution_count": 21,
   "id": "12c91afb-6e4d-43e1-88e5-ab7a76229a87",
   "metadata": {},
   "outputs": [],
   "source": [
    "df_test = pd.read_csv(\"test.csv\")\n",
    "\n",
    "y_true = df_test[\"Outcome\"]\n",
    "\n",
    "X_test = df_test.drop(columns=[\"Outcome\"])\n",
    "\n",
    "X_test_np = X_test.values.astype(\"float32\")"
   ]
  },
  {
   "cell_type": "markdown",
   "id": "ad3e50b2-936a-467a-925b-9927e2036327",
   "metadata": {},
   "source": [
    "Fetch the prediction from endpoint:"
   ]
  },
  {
   "cell_type": "code",
   "execution_count": 22,
   "id": "16ce1966-7339-4dce-b84a-1eb0514e77f5",
   "metadata": {},
   "outputs": [],
   "source": [
    "response = predictor.predict(X_test_np).decode(\"utf-8\")\n",
    "\n",
    "y_pred_probs = [float(x) for x in response.strip().split('\\n')]\n",
    "\n",
    "y_pred = [1 if p > 0.5 else 0 for p in y_pred_probs]\n"
   ]
  },
  {
   "cell_type": "markdown",
   "id": "dc8e7a28-e1d4-4fa8-b024-63e57a9cca9c",
   "metadata": {},
   "source": [
    "Added to prediction results to DataFrame:"
   ]
  },
  {
   "cell_type": "code",
   "execution_count": 23,
   "id": "a89da7e2-accf-410a-ae6c-92843c731567",
   "metadata": {},
   "outputs": [
    {
     "name": "stdout",
     "output_type": "stream",
     "text": [
      "Accuracy: 0.75\n",
      "\n",
      "Classification Report:\n",
      "               precision    recall  f1-score   support\n",
      "\n",
      "           0       0.73      0.93      0.82        41\n",
      "           1       0.81      0.48      0.60        27\n",
      "\n",
      "    accuracy                           0.75        68\n",
      "   macro avg       0.77      0.70      0.71        68\n",
      "weighted avg       0.76      0.75      0.73        68\n",
      "\n",
      "Confusion Matrix:\n",
      " [[38  3]\n",
      " [14 13]]\n"
     ]
    }
   ],
   "source": [
    "from sklearn.metrics import accuracy_score, classification_report, confusion_matrix\n",
    "\n",
    "print(\"Accuracy:\", accuracy_score(y_true, y_pred))\n",
    "print(\"\\nClassification Report:\\n\", classification_report(y_true, y_pred))\n",
    "print(\"Confusion Matrix:\\n\", confusion_matrix(y_true, y_pred))\n"
   ]
  },
  {
   "cell_type": "markdown",
   "id": "b2593819-75bb-48d3-866a-a9e6ac6ae461",
   "metadata": {},
   "source": [
    "**Hyperparameter Tuning**"
   ]
  },
  {
   "cell_type": "code",
   "execution_count": 24,
   "id": "3a8bedfc-d1f6-477d-85e6-56e260b37d31",
   "metadata": {},
   "outputs": [],
   "source": [
    "from sagemaker.tuner import HyperparameterTuner, ContinuousParameter, IntegerParameter\n"
   ]
  },
  {
   "cell_type": "code",
   "execution_count": 34,
   "id": "969983a9-08b9-4684-ac00-0db176002340",
   "metadata": {},
   "outputs": [],
   "source": [
    "hyperparameter_ranges = {\n",
    "    'max_depth': IntegerParameter(3, 10),\n",
    "    'eta': ContinuousParameter(0.01, 0.3),\n",
    "    'gamma': ContinuousParameter(0, 10),\n",
    "    'min_child_weight': IntegerParameter(1, 10),\n",
    "    'subsample': ContinuousParameter(0.5, 1.0),\n",
    "    'colsample_bytree': ContinuousParameter(0.5, 1.0)\n",
    "}\n"
   ]
  },
  {
   "cell_type": "code",
   "execution_count": 35,
   "id": "6ee9984d-abbc-4697-8812-109099e6e09a",
   "metadata": {},
   "outputs": [],
   "source": [
    "objective_metric_name = \"validation:auc\"\n",
    "objective_type = \"Maximize\"\n",
    "\n"
   ]
  },
  {
   "cell_type": "code",
   "execution_count": 36,
   "id": "dbc7c1be-1305-422f-8a92-43d0a50dd695",
   "metadata": {},
   "outputs": [],
   "source": [
    "tuner = HyperparameterTuner(\n",
    "    estimator=xgb_estimator,\n",
    "    objective_metric_name=objective_metric_name,\n",
    "    hyperparameter_ranges=hyperparameter_ranges,\n",
    "    metric_definitions=[\n",
    "        {'Name': 'validation:auc', 'Regex': 'auc:([0-9\\\\.]+)'}\n",
    "    ],\n",
    "    max_jobs=10,\n",
    "    max_parallel_jobs=2,\n",
    "    objective_type=objective_type\n",
    ")\n",
    "\n"
   ]
  },
  {
   "cell_type": "markdown",
   "id": "3a89e707-a12f-48db-8f58-7934f46685a1",
   "metadata": {},
   "source": [
    "Split the data into train(80%) and test (20%):"
   ]
  },
  {
   "cell_type": "code",
   "execution_count": 37,
   "id": "3a84b8d2-542a-4244-a6ee-7468c67a0115",
   "metadata": {},
   "outputs": [],
   "source": [
    "from sklearn.model_selection import train_test_split\n",
    "\n",
    "train_df, val_df = train_test_split(df, test_size=0.2, random_state=42, stratify=df[\"Outcome\"])\n"
   ]
  },
  {
   "cell_type": "code",
   "execution_count": 38,
   "id": "0246418f-48a0-4efc-a4ac-b85bdc264ad8",
   "metadata": {},
   "outputs": [],
   "source": [
    "train_df.to_csv(\"train_sagemaker.csv\", index=False)\n",
    "val_df.to_csv(\"validation_sagemaker.csv\", index=False)\n"
   ]
  },
  {
   "cell_type": "markdown",
   "id": "d3a2bdaf-3bfb-420c-9b1f-8dc11a8c5c12",
   "metadata": {},
   "source": [
    "I upload files to the correct folder in S3. SageMaker can find and use them for model training and tuning."
   ]
  },
  {
   "cell_type": "code",
   "execution_count": 39,
   "id": "b5dd45b6-7b65-4c5d-ba74-5763f64424b6",
   "metadata": {},
   "outputs": [],
   "source": [
    "s3.upload_file(\"train_sagemaker.csv\", bucket_name, \"diabetes/train_sagemaker.csv\")\n",
    "s3.upload_file(\"validation_sagemaker.csv\", bucket_name, \"diabetes/validation_sagemaker.csv\")\n"
   ]
  },
  {
   "cell_type": "code",
   "execution_count": 40,
   "id": "5630794f-d296-4c42-bae7-db8a87f133bf",
   "metadata": {},
   "outputs": [],
   "source": [
    "train_input = TrainingInput(s3_data=f\"s3://{bucket_name}/diabetes/train_sagemaker.csv\", content_type=\"csv\")\n",
    "validation_input = TrainingInput(s3_data=f\"s3://{bucket_name}/diabetes/validation_sagemaker.csv\", content_type=\"csv\")\n"
   ]
  },
  {
   "cell_type": "code",
   "execution_count": 41,
   "id": "416d89f4-b2fc-4f3a-9964-248a102f5d11",
   "metadata": {},
   "outputs": [
    {
     "data": {
      "text/html": [
       "<pre style=\"white-space:pre;overflow-x:auto;line-height:normal;font-family:Menlo,'DejaVu Sans Mono',consolas,'Courier New',monospace\"><span style=\"color: #7fbfbf; text-decoration-color: #7fbfbf\">[05/25/25 15:42:27] </span><span style=\"color: #0069ff; text-decoration-color: #0069ff; font-weight: bold\">INFO    </span> Creating hyperparameter tuning job with name:                          <a href=\"file:///home/ec2-user/anaconda3/envs/python3/lib/python3.10/site-packages/sagemaker/session.py\" target=\"_blank\"><span style=\"color: #7f7f7f; text-decoration-color: #7f7f7f\">session.py</span></a><span style=\"color: #7f7f7f; text-decoration-color: #7f7f7f\">:</span><a href=\"file:///home/ec2-user/anaconda3/envs/python3/lib/python3.10/site-packages/sagemaker/session.py#3383\" target=\"_blank\"><span style=\"color: #7f7f7f; text-decoration-color: #7f7f7f\">3383</span></a>\n",
       "<span style=\"color: #7fbfbf; text-decoration-color: #7fbfbf\">                    </span>         sagemaker-xgboost-<span style=\"color: #008080; text-decoration-color: #008080; font-weight: bold\">250525</span>-<span style=\"color: #008080; text-decoration-color: #008080; font-weight: bold\">1542</span>                                          <span style=\"color: #7f7f7f; text-decoration-color: #7f7f7f\">               </span>\n",
       "</pre>\n"
      ],
      "text/plain": [
       "\u001b[2;36m[05/25/25 15:42:27]\u001b[0m\u001b[2;36m \u001b[0m\u001b[1;38;2;0;105;255mINFO    \u001b[0m Creating hyperparameter tuning job with name:                          \u001b]8;id=927205;file:///home/ec2-user/anaconda3/envs/python3/lib/python3.10/site-packages/sagemaker/session.py\u001b\\\u001b[2msession.py\u001b[0m\u001b]8;;\u001b\\\u001b[2m:\u001b[0m\u001b]8;id=306105;file:///home/ec2-user/anaconda3/envs/python3/lib/python3.10/site-packages/sagemaker/session.py#3383\u001b\\\u001b[2m3383\u001b[0m\u001b]8;;\u001b\\\n",
       "\u001b[2;36m                    \u001b[0m         sagemaker-xgboost-\u001b[1;36m250525\u001b[0m-\u001b[1;36m1542\u001b[0m                                          \u001b[2m               \u001b[0m\n"
      ]
     },
     "metadata": {},
     "output_type": "display_data"
    },
    {
     "name": "stdout",
     "output_type": "stream",
     "text": [
      "..................................................................................!\n"
     ]
    }
   ],
   "source": [
    "tuner.fit({'train': train_input, 'validation': validation_input})\n"
   ]
  },
  {
   "cell_type": "code",
   "execution_count": 42,
   "id": "de25de5c-800a-4e3f-b941-c43131b22534",
   "metadata": {},
   "outputs": [
    {
     "name": "stdout",
     "output_type": "stream",
     "text": [
      "!\n"
     ]
    }
   ],
   "source": [
    "tuner.wait()\n"
   ]
  },
  {
   "cell_type": "markdown",
   "id": "6dccbd58-ad56-4c93-9920-c98830cb9010",
   "metadata": {},
   "source": [
    "Deploy the final model:"
   ]
  },
  {
   "cell_type": "code",
   "execution_count": 43,
   "id": "abc05146-7cf1-4d4e-b6ac-c8cecaa0a68b",
   "metadata": {},
   "outputs": [
    {
     "name": "stdout",
     "output_type": "stream",
     "text": [
      "\n",
      "2025-05-25 15:46:32 Starting - Found matching resource for reuse\n",
      "2025-05-25 15:46:32 Downloading - Downloading the training image\n",
      "2025-05-25 15:46:32 Training - Training image download completed. Training in progress.\n",
      "2025-05-25 15:46:32 Uploading - Uploading generated training model\n",
      "2025-05-25 15:46:32 Completed - Resource reused by training job: sagemaker-xgboost-250525-1542-005-4955e7f9\n"
     ]
    },
    {
     "data": {
      "text/html": [
       "<pre style=\"white-space:pre;overflow-x:auto;line-height:normal;font-family:Menlo,'DejaVu Sans Mono',consolas,'Courier New',monospace\"><span style=\"color: #7fbfbf; text-decoration-color: #7fbfbf\">[05/25/25 15:57:53] </span><span style=\"color: #0069ff; text-decoration-color: #0069ff; font-weight: bold\">INFO    </span> Creating model with name: sagemaker-xgboost-<span style=\"color: #008080; text-decoration-color: #008080; font-weight: bold\">2025</span>-05-25-15-57-53-414    <a href=\"file:///home/ec2-user/anaconda3/envs/python3/lib/python3.10/site-packages/sagemaker/session.py\" target=\"_blank\"><span style=\"color: #7f7f7f; text-decoration-color: #7f7f7f\">session.py</span></a><span style=\"color: #7f7f7f; text-decoration-color: #7f7f7f\">:</span><a href=\"file:///home/ec2-user/anaconda3/envs/python3/lib/python3.10/site-packages/sagemaker/session.py#4094\" target=\"_blank\"><span style=\"color: #7f7f7f; text-decoration-color: #7f7f7f\">4094</span></a>\n",
       "</pre>\n"
      ],
      "text/plain": [
       "\u001b[2;36m[05/25/25 15:57:53]\u001b[0m\u001b[2;36m \u001b[0m\u001b[1;38;2;0;105;255mINFO    \u001b[0m Creating model with name: sagemaker-xgboost-\u001b[1;36m2025\u001b[0m-05-25-15-57-53-414    \u001b]8;id=895879;file:///home/ec2-user/anaconda3/envs/python3/lib/python3.10/site-packages/sagemaker/session.py\u001b\\\u001b[2msession.py\u001b[0m\u001b]8;;\u001b\\\u001b[2m:\u001b[0m\u001b]8;id=212483;file:///home/ec2-user/anaconda3/envs/python3/lib/python3.10/site-packages/sagemaker/session.py#4094\u001b\\\u001b[2m4094\u001b[0m\u001b]8;;\u001b\\\n"
      ]
     },
     "metadata": {},
     "output_type": "display_data"
    },
    {
     "data": {
      "text/html": [
       "<pre style=\"white-space:pre;overflow-x:auto;line-height:normal;font-family:Menlo,'DejaVu Sans Mono',consolas,'Courier New',monospace\"><span style=\"color: #7fbfbf; text-decoration-color: #7fbfbf\">[05/25/25 15:57:54] </span><span style=\"color: #0069ff; text-decoration-color: #0069ff; font-weight: bold\">INFO    </span> Creating endpoint-config with name                                     <a href=\"file:///home/ec2-user/anaconda3/envs/python3/lib/python3.10/site-packages/sagemaker/session.py\" target=\"_blank\"><span style=\"color: #7f7f7f; text-decoration-color: #7f7f7f\">session.py</span></a><span style=\"color: #7f7f7f; text-decoration-color: #7f7f7f\">:</span><a href=\"file:///home/ec2-user/anaconda3/envs/python3/lib/python3.10/site-packages/sagemaker/session.py#6019\" target=\"_blank\"><span style=\"color: #7f7f7f; text-decoration-color: #7f7f7f\">6019</span></a>\n",
       "<span style=\"color: #7fbfbf; text-decoration-color: #7fbfbf\">                    </span>         sagemaker-xgboost-<span style=\"color: #008080; text-decoration-color: #008080; font-weight: bold\">250525</span>-<span style=\"color: #008080; text-decoration-color: #008080; font-weight: bold\">1542</span>-<span style=\"color: #008080; text-decoration-color: #008080; font-weight: bold\">004</span>-e6dab3b6                             <span style=\"color: #7f7f7f; text-decoration-color: #7f7f7f\">               </span>\n",
       "</pre>\n"
      ],
      "text/plain": [
       "\u001b[2;36m[05/25/25 15:57:54]\u001b[0m\u001b[2;36m \u001b[0m\u001b[1;38;2;0;105;255mINFO    \u001b[0m Creating endpoint-config with name                                     \u001b]8;id=7847;file:///home/ec2-user/anaconda3/envs/python3/lib/python3.10/site-packages/sagemaker/session.py\u001b\\\u001b[2msession.py\u001b[0m\u001b]8;;\u001b\\\u001b[2m:\u001b[0m\u001b]8;id=927580;file:///home/ec2-user/anaconda3/envs/python3/lib/python3.10/site-packages/sagemaker/session.py#6019\u001b\\\u001b[2m6019\u001b[0m\u001b]8;;\u001b\\\n",
       "\u001b[2;36m                    \u001b[0m         sagemaker-xgboost-\u001b[1;36m250525\u001b[0m-\u001b[1;36m1542\u001b[0m-\u001b[1;36m004\u001b[0m-e6dab3b6                             \u001b[2m               \u001b[0m\n"
      ]
     },
     "metadata": {},
     "output_type": "display_data"
    },
    {
     "data": {
      "text/html": [
       "<pre style=\"white-space:pre;overflow-x:auto;line-height:normal;font-family:Menlo,'DejaVu Sans Mono',consolas,'Courier New',monospace\"><span style=\"color: #7fbfbf; text-decoration-color: #7fbfbf\">                    </span><span style=\"color: #0069ff; text-decoration-color: #0069ff; font-weight: bold\">INFO    </span> Creating endpoint with name sagemaker-xgboost-<span style=\"color: #008080; text-decoration-color: #008080; font-weight: bold\">250525</span>-<span style=\"color: #008080; text-decoration-color: #008080; font-weight: bold\">1542</span>-<span style=\"color: #008080; text-decoration-color: #008080; font-weight: bold\">004</span>-e6dab3b6 <a href=\"file:///home/ec2-user/anaconda3/envs/python3/lib/python3.10/site-packages/sagemaker/session.py\" target=\"_blank\"><span style=\"color: #7f7f7f; text-decoration-color: #7f7f7f\">session.py</span></a><span style=\"color: #7f7f7f; text-decoration-color: #7f7f7f\">:</span><a href=\"file:///home/ec2-user/anaconda3/envs/python3/lib/python3.10/site-packages/sagemaker/session.py#4841\" target=\"_blank\"><span style=\"color: #7f7f7f; text-decoration-color: #7f7f7f\">4841</span></a>\n",
       "</pre>\n"
      ],
      "text/plain": [
       "\u001b[2;36m                   \u001b[0m\u001b[2;36m \u001b[0m\u001b[1;38;2;0;105;255mINFO    \u001b[0m Creating endpoint with name sagemaker-xgboost-\u001b[1;36m250525\u001b[0m-\u001b[1;36m1542\u001b[0m-\u001b[1;36m004\u001b[0m-e6dab3b6 \u001b]8;id=150405;file:///home/ec2-user/anaconda3/envs/python3/lib/python3.10/site-packages/sagemaker/session.py\u001b\\\u001b[2msession.py\u001b[0m\u001b]8;;\u001b\\\u001b[2m:\u001b[0m\u001b]8;id=967991;file:///home/ec2-user/anaconda3/envs/python3/lib/python3.10/site-packages/sagemaker/session.py#4841\u001b\\\u001b[2m4841\u001b[0m\u001b]8;;\u001b\\\n"
      ]
     },
     "metadata": {},
     "output_type": "display_data"
    },
    {
     "name": "stdout",
     "output_type": "stream",
     "text": [
      "------!"
     ]
    }
   ],
   "source": [
    "best_predictor = tuner.deploy(\n",
    "    initial_instance_count=1,\n",
    "    instance_type=\"ml.m5.large\",\n",
    "    serializer=CSVSerializer()\n",
    ")\n"
   ]
  },
  {
   "cell_type": "markdown",
   "id": "2bdbe7f8-8eb9-4824-8aa0-7643f2b09a7c",
   "metadata": {},
   "source": [
    "Final classification Report:"
   ]
  },
  {
   "cell_type": "code",
   "execution_count": 45,
   "id": "8f6e27ca-f3ff-40c7-a3fa-d14aca4e1f79",
   "metadata": {},
   "outputs": [
    {
     "name": "stdout",
     "output_type": "stream",
     "text": [
      "Accuracy: 0.7794117647058824\n",
      "\n",
      "Classification Report:\n",
      "               precision    recall  f1-score   support\n",
      "\n",
      "           0       0.75      0.95      0.84        41\n",
      "           1       0.88      0.52      0.65        27\n",
      "\n",
      "    accuracy                           0.78        68\n",
      "   macro avg       0.81      0.73      0.74        68\n",
      "weighted avg       0.80      0.78      0.76        68\n",
      "\n",
      "Confusion Matrix:\n",
      " [[39  2]\n",
      " [13 14]]\n"
     ]
    }
   ],
   "source": [
    "response = best_predictor.predict(X_test_np).decode(\"utf-8\")\n",
    "y_pred_probs = [float(x) for x in response.strip().split('\\n')]\n",
    "y_pred = [1 if p > 0.5 else 0 for p in y_pred_probs]\n",
    "\n",
    "from sklearn.metrics import classification_report, confusion_matrix, accuracy_score\n",
    "print(\"Accuracy:\", accuracy_score(y_true, y_pred))\n",
    "print(\"\\nClassification Report:\\n\", classification_report(y_true, y_pred))\n",
    "print(\"Confusion Matrix:\\n\", confusion_matrix(y_true, y_pred))\n"
   ]
  },
  {
   "cell_type": "markdown",
   "id": "47ddc100-ba17-4fbf-8f73-6188360dfdee",
   "metadata": {},
   "source": [
    "We lastly deleted the endpoint to avoid extra costs and keep our AWS resources clean:"
   ]
  },
  {
   "cell_type": "code",
   "execution_count": 46,
   "id": "d008200e-6d9e-4e2b-ace8-d255cca4e302",
   "metadata": {},
   "outputs": [
    {
     "data": {
      "text/html": [
       "<pre style=\"white-space:pre;overflow-x:auto;line-height:normal;font-family:Menlo,'DejaVu Sans Mono',consolas,'Courier New',monospace\"><span style=\"color: #7fbfbf; text-decoration-color: #7fbfbf\">[05/25/25 16:05:25] </span><span style=\"color: #0069ff; text-decoration-color: #0069ff; font-weight: bold\">INFO    </span> Deleting endpoint configuration with name:                             <a href=\"file:///home/ec2-user/anaconda3/envs/python3/lib/python3.10/site-packages/sagemaker/session.py\" target=\"_blank\"><span style=\"color: #7f7f7f; text-decoration-color: #7f7f7f\">session.py</span></a><span style=\"color: #7f7f7f; text-decoration-color: #7f7f7f\">:</span><a href=\"file:///home/ec2-user/anaconda3/envs/python3/lib/python3.10/site-packages/sagemaker/session.py#4995\" target=\"_blank\"><span style=\"color: #7f7f7f; text-decoration-color: #7f7f7f\">4995</span></a>\n",
       "<span style=\"color: #7fbfbf; text-decoration-color: #7fbfbf\">                    </span>         sagemaker-xgboost-<span style=\"color: #008080; text-decoration-color: #008080; font-weight: bold\">250525</span>-<span style=\"color: #008080; text-decoration-color: #008080; font-weight: bold\">1542</span>-<span style=\"color: #008080; text-decoration-color: #008080; font-weight: bold\">004</span>-e6dab3b6                             <span style=\"color: #7f7f7f; text-decoration-color: #7f7f7f\">               </span>\n",
       "</pre>\n"
      ],
      "text/plain": [
       "\u001b[2;36m[05/25/25 16:05:25]\u001b[0m\u001b[2;36m \u001b[0m\u001b[1;38;2;0;105;255mINFO    \u001b[0m Deleting endpoint configuration with name:                             \u001b]8;id=523999;file:///home/ec2-user/anaconda3/envs/python3/lib/python3.10/site-packages/sagemaker/session.py\u001b\\\u001b[2msession.py\u001b[0m\u001b]8;;\u001b\\\u001b[2m:\u001b[0m\u001b]8;id=344266;file:///home/ec2-user/anaconda3/envs/python3/lib/python3.10/site-packages/sagemaker/session.py#4995\u001b\\\u001b[2m4995\u001b[0m\u001b]8;;\u001b\\\n",
       "\u001b[2;36m                    \u001b[0m         sagemaker-xgboost-\u001b[1;36m250525\u001b[0m-\u001b[1;36m1542\u001b[0m-\u001b[1;36m004\u001b[0m-e6dab3b6                             \u001b[2m               \u001b[0m\n"
      ]
     },
     "metadata": {},
     "output_type": "display_data"
    },
    {
     "data": {
      "text/html": [
       "<pre style=\"white-space:pre;overflow-x:auto;line-height:normal;font-family:Menlo,'DejaVu Sans Mono',consolas,'Courier New',monospace\"><span style=\"color: #7fbfbf; text-decoration-color: #7fbfbf\">                    </span><span style=\"color: #0069ff; text-decoration-color: #0069ff; font-weight: bold\">INFO    </span> Deleting endpoint with name:                                           <a href=\"file:///home/ec2-user/anaconda3/envs/python3/lib/python3.10/site-packages/sagemaker/session.py\" target=\"_blank\"><span style=\"color: #7f7f7f; text-decoration-color: #7f7f7f\">session.py</span></a><span style=\"color: #7f7f7f; text-decoration-color: #7f7f7f\">:</span><a href=\"file:///home/ec2-user/anaconda3/envs/python3/lib/python3.10/site-packages/sagemaker/session.py#4985\" target=\"_blank\"><span style=\"color: #7f7f7f; text-decoration-color: #7f7f7f\">4985</span></a>\n",
       "<span style=\"color: #7fbfbf; text-decoration-color: #7fbfbf\">                    </span>         sagemaker-xgboost-<span style=\"color: #008080; text-decoration-color: #008080; font-weight: bold\">250525</span>-<span style=\"color: #008080; text-decoration-color: #008080; font-weight: bold\">1542</span>-<span style=\"color: #008080; text-decoration-color: #008080; font-weight: bold\">004</span>-e6dab3b6                             <span style=\"color: #7f7f7f; text-decoration-color: #7f7f7f\">               </span>\n",
       "</pre>\n"
      ],
      "text/plain": [
       "\u001b[2;36m                   \u001b[0m\u001b[2;36m \u001b[0m\u001b[1;38;2;0;105;255mINFO    \u001b[0m Deleting endpoint with name:                                           \u001b]8;id=292161;file:///home/ec2-user/anaconda3/envs/python3/lib/python3.10/site-packages/sagemaker/session.py\u001b\\\u001b[2msession.py\u001b[0m\u001b]8;;\u001b\\\u001b[2m:\u001b[0m\u001b]8;id=510679;file:///home/ec2-user/anaconda3/envs/python3/lib/python3.10/site-packages/sagemaker/session.py#4985\u001b\\\u001b[2m4985\u001b[0m\u001b]8;;\u001b\\\n",
       "\u001b[2;36m                    \u001b[0m         sagemaker-xgboost-\u001b[1;36m250525\u001b[0m-\u001b[1;36m1542\u001b[0m-\u001b[1;36m004\u001b[0m-e6dab3b6                             \u001b[2m               \u001b[0m\n"
      ]
     },
     "metadata": {},
     "output_type": "display_data"
    }
   ],
   "source": [
    "best_predictor.delete_endpoint()\n"
   ]
  },
  {
   "cell_type": "code",
   "execution_count": null,
   "id": "ffc64829-32f7-4511-b944-eef9b489ce25",
   "metadata": {},
   "outputs": [],
   "source": []
  },
  {
   "cell_type": "code",
   "execution_count": null,
   "id": "42d4b934-600a-4052-a953-14cf7e4f233b",
   "metadata": {},
   "outputs": [],
   "source": []
  },
  {
   "cell_type": "code",
   "execution_count": null,
   "id": "817b3a56-4e52-4256-8c0d-0a9926908eaf",
   "metadata": {},
   "outputs": [],
   "source": []
  },
  {
   "cell_type": "code",
   "execution_count": null,
   "id": "4cb00390-619e-424e-b3d0-175cc5f4548c",
   "metadata": {},
   "outputs": [],
   "source": []
  },
  {
   "cell_type": "code",
   "execution_count": null,
   "id": "fd154d65-6b4f-4b34-8b2f-62aaf081114d",
   "metadata": {},
   "outputs": [],
   "source": []
  },
  {
   "cell_type": "code",
   "execution_count": null,
   "id": "901ce1bf-cf21-4e83-8fed-baf8e4539cb6",
   "metadata": {},
   "outputs": [],
   "source": []
  },
  {
   "cell_type": "code",
   "execution_count": null,
   "id": "dba55bc6-ea9d-4155-b99e-6eec44dd62df",
   "metadata": {},
   "outputs": [],
   "source": []
  }
 ],
 "metadata": {
  "kernelspec": {
   "display_name": "conda_python3",
   "language": "python",
   "name": "conda_python3"
  },
  "language_info": {
   "codemirror_mode": {
    "name": "ipython",
    "version": 3
   },
   "file_extension": ".py",
   "mimetype": "text/x-python",
   "name": "python",
   "nbconvert_exporter": "python",
   "pygments_lexer": "ipython3",
   "version": "3.10.17"
  }
 },
 "nbformat": 4,
 "nbformat_minor": 5
}
